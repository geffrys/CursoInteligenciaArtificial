{
 "cells": [
  {
   "cell_type": "code",
   "execution_count": 1,
   "metadata": {},
   "outputs": [
    {
     "name": "stdout",
     "output_type": "stream",
     "text": [
      "Requirement already satisfied: clipspy in c:\\users\\geffr\\appdata\\local\\programs\\python\\python310\\lib\\site-packages (1.0.4)\n",
      "Requirement already satisfied: cffi>=1.0.0 in c:\\users\\geffr\\appdata\\local\\programs\\python\\python310\\lib\\site-packages (from clipspy) (1.17.0)\n",
      "Requirement already satisfied: pycparser in c:\\users\\geffr\\appdata\\local\\programs\\python\\python310\\lib\\site-packages (from cffi>=1.0.0->clipspy) (2.22)\n",
      "Note: you may need to restart the kernel to use updated packages.\n",
      "Requirement already satisfied: matplot in c:\\users\\geffr\\appdata\\local\\programs\\python\\python310\\lib\\site-packages (0.1.9)\n",
      "Requirement already satisfied: pyloco>=0.0.134 in c:\\users\\geffr\\appdata\\local\\programs\\python\\python310\\lib\\site-packages (from matplot) (0.0.139)\n",
      "Requirement already satisfied: matplotlib>=3.1.1 in c:\\users\\geffr\\appdata\\local\\programs\\python\\python310\\lib\\site-packages (from matplot) (3.9.2)\n",
      "Requirement already satisfied: contourpy>=1.0.1 in c:\\users\\geffr\\appdata\\local\\programs\\python\\python310\\lib\\site-packages (from matplotlib>=3.1.1->matplot) (1.2.1)\n",
      "Requirement already satisfied: cycler>=0.10 in c:\\users\\geffr\\appdata\\local\\programs\\python\\python310\\lib\\site-packages (from matplotlib>=3.1.1->matplot) (0.12.1)\n",
      "Requirement already satisfied: fonttools>=4.22.0 in c:\\users\\geffr\\appdata\\local\\programs\\python\\python310\\lib\\site-packages (from matplotlib>=3.1.1->matplot) (4.53.1)\n",
      "Requirement already satisfied: kiwisolver>=1.3.1 in c:\\users\\geffr\\appdata\\local\\programs\\python\\python310\\lib\\site-packages (from matplotlib>=3.1.1->matplot) (1.4.5)\n",
      "Requirement already satisfied: numpy>=1.23 in c:\\users\\geffr\\appdata\\local\\programs\\python\\python310\\lib\\site-packages (from matplotlib>=3.1.1->matplot) (2.1.0)\n",
      "Requirement already satisfied: packaging>=20.0 in c:\\users\\geffr\\appdata\\roaming\\python\\python310\\site-packages (from matplotlib>=3.1.1->matplot) (24.1)\n",
      "Requirement already satisfied: pillow>=8 in c:\\users\\geffr\\appdata\\local\\programs\\python\\python310\\lib\\site-packages (from matplotlib>=3.1.1->matplot) (10.4.0)\n",
      "Requirement already satisfied: pyparsing>=2.3.1 in c:\\users\\geffr\\appdata\\local\\programs\\python\\python310\\lib\\site-packages (from matplotlib>=3.1.1->matplot) (3.1.2)\n",
      "Requirement already satisfied: python-dateutil>=2.7 in c:\\users\\geffr\\appdata\\roaming\\python\\python310\\site-packages (from matplotlib>=3.1.1->matplot) (2.9.0.post0)\n",
      "Requirement already satisfied: ushlex in c:\\users\\geffr\\appdata\\local\\programs\\python\\python310\\lib\\site-packages (from pyloco>=0.0.134->matplot) (0.99.1)\n",
      "Requirement already satisfied: websocket-client in c:\\users\\geffr\\appdata\\local\\programs\\python\\python310\\lib\\site-packages (from pyloco>=0.0.134->matplot) (1.8.0)\n",
      "Requirement already satisfied: twine in c:\\users\\geffr\\appdata\\local\\programs\\python\\python310\\lib\\site-packages (from pyloco>=0.0.134->matplot) (5.1.1)\n",
      "Requirement already satisfied: typing in c:\\users\\geffr\\appdata\\local\\programs\\python\\python310\\lib\\site-packages (from pyloco>=0.0.134->matplot) (3.7.4.3)\n",
      "Requirement already satisfied: SimpleWebSocketServer in c:\\users\\geffr\\appdata\\local\\programs\\python\\python310\\lib\\site-packages (from pyloco>=0.0.134->matplot) (0.1.2)\n",
      "Requirement already satisfied: six>=1.5 in c:\\users\\geffr\\appdata\\roaming\\python\\python310\\site-packages (from python-dateutil>=2.7->matplotlib>=3.1.1->matplot) (1.16.0)\n",
      "Requirement already satisfied: pkginfo>=1.8.1 in c:\\users\\geffr\\appdata\\local\\programs\\python\\python310\\lib\\site-packages (from twine->pyloco>=0.0.134->matplot) (1.10.0)\n",
      "Requirement already satisfied: readme-renderer>=35.0 in c:\\users\\geffr\\appdata\\local\\programs\\python\\python310\\lib\\site-packages (from twine->pyloco>=0.0.134->matplot) (44.0)\n",
      "Requirement already satisfied: requests>=2.20 in c:\\users\\geffr\\appdata\\local\\programs\\python\\python310\\lib\\site-packages (from twine->pyloco>=0.0.134->matplot) (2.32.3)\n",
      "Requirement already satisfied: requests-toolbelt!=0.9.0,>=0.8.0 in c:\\users\\geffr\\appdata\\local\\programs\\python\\python310\\lib\\site-packages (from twine->pyloco>=0.0.134->matplot) (1.0.0)\n",
      "Requirement already satisfied: urllib3>=1.26.0 in c:\\users\\geffr\\appdata\\local\\programs\\python\\python310\\lib\\site-packages (from twine->pyloco>=0.0.134->matplot) (2.2.2)\n",
      "Requirement already satisfied: importlib-metadata>=3.6 in c:\\users\\geffr\\appdata\\local\\programs\\python\\python310\\lib\\site-packages (from twine->pyloco>=0.0.134->matplot) (8.4.0)\n",
      "Requirement already satisfied: keyring>=15.1 in c:\\users\\geffr\\appdata\\local\\programs\\python\\python310\\lib\\site-packages (from twine->pyloco>=0.0.134->matplot) (25.3.0)\n",
      "Requirement already satisfied: rfc3986>=1.4.0 in c:\\users\\geffr\\appdata\\local\\programs\\python\\python310\\lib\\site-packages (from twine->pyloco>=0.0.134->matplot) (2.0.0)\n",
      "Requirement already satisfied: rich>=12.0.0 in c:\\users\\geffr\\appdata\\local\\programs\\python\\python310\\lib\\site-packages (from twine->pyloco>=0.0.134->matplot) (13.7.1)\n",
      "Requirement already satisfied: zipp>=0.5 in c:\\users\\geffr\\appdata\\local\\programs\\python\\python310\\lib\\site-packages (from importlib-metadata>=3.6->twine->pyloco>=0.0.134->matplot) (3.20.0)\n",
      "Requirement already satisfied: jaraco.classes in c:\\users\\geffr\\appdata\\local\\programs\\python\\python310\\lib\\site-packages (from keyring>=15.1->twine->pyloco>=0.0.134->matplot) (3.4.0)\n",
      "Requirement already satisfied: jaraco.functools in c:\\users\\geffr\\appdata\\local\\programs\\python\\python310\\lib\\site-packages (from keyring>=15.1->twine->pyloco>=0.0.134->matplot) (4.0.2)\n",
      "Requirement already satisfied: jaraco.context in c:\\users\\geffr\\appdata\\local\\programs\\python\\python310\\lib\\site-packages (from keyring>=15.1->twine->pyloco>=0.0.134->matplot) (6.0.1)\n",
      "Requirement already satisfied: pywin32-ctypes>=0.2.0 in c:\\users\\geffr\\appdata\\local\\programs\\python\\python310\\lib\\site-packages (from keyring>=15.1->twine->pyloco>=0.0.134->matplot) (0.2.3)\n",
      "Requirement already satisfied: nh3>=0.2.14 in c:\\users\\geffr\\appdata\\local\\programs\\python\\python310\\lib\\site-packages (from readme-renderer>=35.0->twine->pyloco>=0.0.134->matplot) (0.2.18)\n",
      "Requirement already satisfied: docutils>=0.21.2 in c:\\users\\geffr\\appdata\\local\\programs\\python\\python310\\lib\\site-packages (from readme-renderer>=35.0->twine->pyloco>=0.0.134->matplot) (0.21.2)\n",
      "Requirement already satisfied: Pygments>=2.5.1 in c:\\users\\geffr\\appdata\\roaming\\python\\python310\\site-packages (from readme-renderer>=35.0->twine->pyloco>=0.0.134->matplot) (2.18.0)\n",
      "Requirement already satisfied: charset-normalizer<4,>=2 in c:\\users\\geffr\\appdata\\local\\programs\\python\\python310\\lib\\site-packages (from requests>=2.20->twine->pyloco>=0.0.134->matplot) (3.3.2)\n",
      "Requirement already satisfied: idna<4,>=2.5 in c:\\users\\geffr\\appdata\\local\\programs\\python\\python310\\lib\\site-packages (from requests>=2.20->twine->pyloco>=0.0.134->matplot) (3.8)\n",
      "Requirement already satisfied: certifi>=2017.4.17 in c:\\users\\geffr\\appdata\\local\\programs\\python\\python310\\lib\\site-packages (from requests>=2.20->twine->pyloco>=0.0.134->matplot) (2024.7.4)\n",
      "Requirement already satisfied: markdown-it-py>=2.2.0 in c:\\users\\geffr\\appdata\\local\\programs\\python\\python310\\lib\\site-packages (from rich>=12.0.0->twine->pyloco>=0.0.134->matplot) (3.0.0)\n",
      "Requirement already satisfied: mdurl~=0.1 in c:\\users\\geffr\\appdata\\local\\programs\\python\\python310\\lib\\site-packages (from markdown-it-py>=2.2.0->rich>=12.0.0->twine->pyloco>=0.0.134->matplot) (0.1.2)\n",
      "Requirement already satisfied: more-itertools in c:\\users\\geffr\\appdata\\local\\programs\\python\\python310\\lib\\site-packages (from jaraco.classes->keyring>=15.1->twine->pyloco>=0.0.134->matplot) (10.4.0)\n",
      "Requirement already satisfied: backports.tarfile in c:\\users\\geffr\\appdata\\local\\programs\\python\\python310\\lib\\site-packages (from jaraco.context->keyring>=15.1->twine->pyloco>=0.0.134->matplot) (1.2.0)\n",
      "Note: you may need to restart the kernel to use updated packages.\n",
      "Requirement already satisfied: numpy in c:\\users\\geffr\\appdata\\local\\programs\\python\\python310\\lib\\site-packages (2.1.0)Note: you may need to restart the kernel to use updated packages.\n",
      "\n"
     ]
    }
   ],
   "source": [
    "%pip install clipspy\n",
    "%pip install matplot\n",
    "%pip install numpy"
   ]
  },
  {
   "cell_type": "code",
   "execution_count": 2,
   "metadata": {},
   "outputs": [],
   "source": [
    "import clips\n",
    "import numpy as np\n",
    "import matplotlib.pyplot as plt"
   ]
  },
  {
   "cell_type": "markdown",
   "metadata": {},
   "source": [
    "***TEMA*** : Gusto musical.\n",
    "***PROBLEMA*** : Determinar gustos musicales a partir de ciertas reglas tomando en cuenta las caracteristicas de la persona.\n",
    "***TEORIA*** :\n",
    "-  “la música es una fuente de motivación intrínseca, de recreación, enriquecimiento y diversión, porque es algo que te puede gustar por sí misma, te hace pensar, te hace más tolerante hacia los demás y a determinadas situaciones”, señaló la maestra Moran.\n",
    "-  Por tales propiedades, la especialista recurre a la música como componente motivacional para dar terapia a niños con parálisis cerebral, estimulando así el padecimiento del sistema motor de sus pacientes a través de la música.\n",
    "\n",
    "fuente: https://ciencia.unam.mx/leer/715/en-ciencia-joven-de-que-dependen-tus-gustos-musicales- \n",
    "\n",
    "***RULE-SET*** : \n"
   ]
  }
 ],
 "metadata": {
  "kernelspec": {
   "display_name": "Python 3",
   "language": "python",
   "name": "python3"
  },
  "language_info": {
   "codemirror_mode": {
    "name": "ipython",
    "version": 3
   },
   "file_extension": ".py",
   "mimetype": "text/x-python",
   "name": "python",
   "nbconvert_exporter": "python",
   "pygments_lexer": "ipython3",
   "version": "3.10.0"
  }
 },
 "nbformat": 4,
 "nbformat_minor": 2
}
