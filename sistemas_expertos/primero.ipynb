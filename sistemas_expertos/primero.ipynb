{
 "cells": [
  {
   "cell_type": "code",
   "execution_count": 2,
   "metadata": {},
   "outputs": [
    {
     "name": "stdout",
     "output_type": "stream",
     "text": [
      "Requirement already satisfied: clipspy in c:\\users\\geffr\\appdata\\local\\programs\\python\\python310\\lib\\site-packages (1.0.4)\n",
      "Requirement already satisfied: cffi>=1.0.0 in c:\\users\\geffr\\appdata\\local\\programs\\python\\python310\\lib\\site-packages (from clipspy) (1.17.0)\n",
      "Requirement already satisfied: pycparser in c:\\users\\geffr\\appdata\\local\\programs\\python\\python310\\lib\\site-packages (from cffi>=1.0.0->clipspy) (2.22)\n",
      "Note: you may need to restart the kernel to use updated packages.\n"
     ]
    }
   ],
   "source": [
    "%pip install clipspy"
   ]
  },
  {
   "cell_type": "code",
   "execution_count": 3,
   "metadata": {},
   "outputs": [],
   "source": [
    "import clips\n",
    "sistema_experto = clips.Environment()\n",
    "sistema_experto.clear()"
   ]
  },
  {
   "cell_type": "markdown",
   "metadata": {},
   "source": [
    "# Cargamos las reglas"
   ]
  },
  {
   "cell_type": "code",
   "execution_count": 6,
   "metadata": {},
   "outputs": [
    {
     "name": "stdout",
     "output_type": "stream",
     "text": [
      "<clips.environment.Environment object at 0x0000022D90E687C0>\n"
     ]
    }
   ],
   "source": [
    "reglaLluvia = (\"(defrule reglaLluvia (lloviendo) => (assert(abrirParaguas)))\")\n",
    "sistema_experto.build(reglaLluvia)\n"
   ]
  },
  {
   "cell_type": "markdown",
   "metadata": {},
   "source": [
    "# Definicion de hechos"
   ]
  },
  {
   "cell_type": "code",
   "execution_count": null,
   "metadata": {},
   "outputs": [],
   "source": []
  }
 ],
 "metadata": {
  "kernelspec": {
   "display_name": "Python 3",
   "language": "python",
   "name": "python3"
  },
  "language_info": {
   "codemirror_mode": {
    "name": "ipython",
    "version": 3
   },
   "file_extension": ".py",
   "mimetype": "text/x-python",
   "name": "python",
   "nbconvert_exporter": "python",
   "pygments_lexer": "ipython3",
   "version": "3.10.0"
  }
 },
 "nbformat": 4,
 "nbformat_minor": 2
}
